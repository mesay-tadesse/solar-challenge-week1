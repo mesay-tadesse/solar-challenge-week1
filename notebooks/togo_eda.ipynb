{
 "cells": [
  {
   "cell_type": "markdown",
   "id": "0",
   "metadata": {},
   "source": [
    "## Solar challenge :country - Togo"
   ]
  },
  {
   "cell_type": "markdown",
   "id": "1",
   "metadata": {},
   "source": [
    "## Summary Statistics & Missing-Value Report\n",
    "\n",
    "We begin the EDA by checking the summary statistics of all numeric columns and identifying columns with missing values. Columns with more than 5% null values are flagged.\n"
   ]
  },
  {
   "cell_type": "code",
   "execution_count": null,
   "id": "2",
   "metadata": {},
   "outputs": [],
   "source": [
    "import pandas as pd\n",
    "\n",
    "# Load the dataset\n",
    "df = pd.read_csv('../data/togo-dapaong_qc.csv')\n",
    "\n",
    "# Display the first few rows of the dataset\n",
    "df.head()"
   ]
  },
  {
   "cell_type": "code",
   "execution_count": null,
   "id": "3",
   "metadata": {},
   "outputs": [],
   "source": [
    "# Summary statistics\n",
    "df.describe()"
   ]
  },
  {
   "cell_type": "code",
   "execution_count": null,
   "id": "4",
   "metadata": {},
   "outputs": [],
   "source": [
    "# Missing value report\n",
    "missing_report = df.isna().sum()\n",
    "print(\"Missing Values Per Column:\\n\", missing_report)\n",
    "\n",
    "# Flag columns with >5% missing data\n",
    "threshold = 0.05 * len(df)\n",
    "high_missing_cols = missing_report[missing_report > threshold]\n",
    "print(\"\\nColumns with >5% missing values:\\n\", high_missing_cols)\n"
   ]
  },
  {
   "cell_type": "markdown",
   "id": "5",
   "metadata": {},
   "source": [
    "## Outlier Detection & Basic Cleaning\n",
    "\n",
    "We check for outliers using Z-scores in sensor and irradiance readings, and handle missing values in key columns using median imputation.\n"
   ]
  },
  {
   "cell_type": "code",
   "execution_count": null,
   "id": "6",
   "metadata": {},
   "outputs": [],
   "source": [
    "from scipy.stats import zscore\n",
    "import numpy as np\n",
    "\n",
    "key_columns = ['GHI', 'DNI', 'DHI', 'ModA', 'ModB', 'WS', 'WSgust']\n",
    "df_clean = df.copy()\n",
    "\n",
    "cols = ['ModA', 'ModB', 'WS', 'WSgust']\n",
    "z_scores_df = df[cols].apply(zscore)\n",
    "for col in cols:\n",
    "    outlier_flags = z_scores_df[col].abs() > 3\n",
    "    outlier_rows = df[outlier_flags]\n",
    "    print(f\"col {col} has {len(outlier_rows)} outliers and {round(len(outlier_rows) / len(df) * 100, 2)}% of the data\")\n",
    "\n",
    "# Compute Z-scores and flag outliers\n",
    "z_scores = df_clean[key_columns].apply(zscore)\n",
    "outliers = (np.abs(z_scores) > 3).any(axis=1)\n",
    "\n",
    "print(f\"Total outliers flagged: {outliers.sum()}\")\n",
    "\n",
    "# Impute missing values with median\n",
    "df_clean[key_columns] = df_clean[key_columns].fillna(df_clean[key_columns].median())\n",
    "\n",
    "# Export cleaned data\n",
    "df_clean.to_csv(\"data/togo_clean.csv\", index=False)\n",
    "print(\"✅ Cleaned data exported to 'data/togo_clean.csv'\")"
   ]
  },
  {
   "cell_type": "markdown",
   "id": "7",
   "metadata": {},
   "source": [
    "## Time Series Analysis\n",
    "\n",
    "We analyze GHI, DNI, DHI, and ambient temperature (Tamb) over time using line plots to observe patterns by month, day, or unusual spikes.\n"
   ]
  },
  {
   "cell_type": "code",
   "execution_count": null,
   "id": "8",
   "metadata": {},
   "outputs": [],
   "source": [
    "import matplotlib.pyplot as plt\n",
    "\n",
    "# Convert the 'Timestamp' column to datetime\n",
    "df_clean['Timestamp'] = pd.to_datetime(df_clean['Timestamp'])\n",
    "\n",
    "# Check the data types to confirm the change\n",
    "print(df_clean.dtypes)\n"
   ]
  },
  {
   "cell_type": "code",
   "execution_count": null,
   "id": "9",
   "metadata": {},
   "outputs": [],
   "source": [
    "plt.figure(figsize=(8, 6))\n",
    "for col in ['GHI', 'DNI', 'DHI', 'Tamb']:\n",
    "    plt.plot(df_clean['Timestamp'], df_clean[col], label=col)\n",
    "plt.legend(loc='upper right')\n",
    "plt.title(\"Time Series of Solar and Temperature Data\")\n",
    "plt.xlabel(\"Timestamp\")\n",
    "plt.ylabel(\"Values\")\n",
    "plt.grid(True)\n",
    "plt.tight_layout()\n",
    "plt.show()\n"
   ]
  },
  {
   "cell_type": "markdown",
   "id": "10",
   "metadata": {},
   "source": [
    "## Cleaning Impact on ModA and ModB\n",
    "\n",
    "We analyze the effect of cleaning actions on sensor readings by grouping by the cleaning flag.\n"
   ]
  },
  {
   "cell_type": "code",
   "execution_count": null,
   "id": "11",
   "metadata": {},
   "outputs": [],
   "source": [
    "cleaning_impact = df.groupby('Cleaning')[['ModA', 'ModB']].mean()\n",
    "cleaning_impact.plot(kind='bar', figsize=(8, 6))\n",
    "plt.title('Average ModA and ModB Before and After Cleaning')\n",
    "plt.xlabel('Cleaning (0 = No, 1 = Yes)')\n",
    "plt.ylabel('Average Value (W/m²)')\n",
    "plt.xticks(rotation=0)\n",
    "plt.show()"
   ]
  },
  {
   "cell_type": "markdown",
   "id": "12",
   "metadata": {},
   "source": [
    "## Correlation and Relationship Analysis\n",
    "\n",
    "Visualize relationships between variables using a heatmap and scatter plots.\n"
   ]
  },
  {
   "cell_type": "code",
   "execution_count": null,
   "id": "13",
   "metadata": {},
   "outputs": [],
   "source": [
    "import seaborn as sns\n",
    "\n",
    "# Heatmap\n",
    "corr_cols = ['GHI', 'DNI', 'DHI', 'TModA', 'TModB']\n",
    "sns.heatmap(df_clean[corr_cols].corr(), annot=True, cmap='coolwarm')\n",
    "plt.title(\"Correlation Heatmap\")\n",
    "plt.tight_layout()\n",
    "plt.show()\n"
   ]
  },
  {
   "cell_type": "code",
   "execution_count": null,
   "id": "14",
   "metadata": {},
   "outputs": [],
   "source": [
    "# Scatter plots\n",
    "fig, axes = plt.subplots(1, 3, figsize=(18, 5))\n",
    "sns.scatterplot(x='WS', y='GHI', data=df_clean, ax=axes[0])\n",
    "sns.scatterplot(x='WSgust', y='GHI', data=df_clean, ax=axes[1])\n",
    "sns.scatterplot(x='RH', y='Tamb', data=df_clean, ax=axes[2])\n",
    "axes[0].set_title(\"WS vs GHI\")\n",
    "axes[1].set_title(\"WSgust vs GHI\")\n",
    "axes[2].set_title(\"RH vs Tamb\")\n",
    "plt.tight_layout()\n",
    "plt.show()"
   ]
  },
  {
   "cell_type": "markdown",
   "id": "15",
   "metadata": {},
   "source": [
    "## Wind and Distribution Analysis\n",
    "\n",
    "We visualize wind direction and speed using a wind rose and inspect the distribution of GHI and WS using histograms.\n"
   ]
  },
  {
   "cell_type": "code",
   "execution_count": null,
   "id": "16",
   "metadata": {},
   "outputs": [],
   "source": [
    "#Wind Rose:\n",
    "from windrose import WindroseAxes\n",
    "ax = WindroseAxes.from_ax()\n",
    "ax.bar(df['WD'], df['WS'], normed=True, opening=0.8, edgecolor='white')\n",
    "ax.set_legend()\n",
    "plt.title('Wind Rose (togo)')\n",
    "plt.show()\n"
   ]
  },
  {
   "cell_type": "code",
   "execution_count": null,
   "id": "17",
   "metadata": {},
   "outputs": [],
   "source": [
    "# Histograms\n",
    "df_clean[['GHI', 'WS']].hist(bins=30, figsize=(10, 5))\n",
    "plt.suptitle(\"Distribution of GHI and WS\")\n",
    "plt.tight_layout()\n",
    "plt.show()\n"
   ]
  },
  {
   "cell_type": "markdown",
   "id": "18",
   "metadata": {},
   "source": [
    "## Temperature and Relative Humidity Analysis\n",
    "\n",
    "We examine the relationship between temperature and humidity to understand their mutual influence on solar radiation.\n"
   ]
  },
  {
   "cell_type": "code",
   "execution_count": null,
   "id": "19",
   "metadata": {},
   "outputs": [],
   "source": [
    "sns.scatterplot(x='RH', y='GHI', data=df_clean)\n",
    "plt.title(\"Relative Humidity vs GHI\")\n",
    "plt.tight_layout()\n",
    "plt.show()\n",
    "\n",
    "sns.scatterplot(x='RH', y='Tamb', data=df_clean)\n",
    "plt.title(\"Relative Humidity vs Temperature\")\n",
    "plt.tight_layout()\n",
    "plt.show()\n",
    "\n"
   ]
  },
  {
   "cell_type": "markdown",
   "id": "20",
   "metadata": {},
   "source": [
    "## Bubble Chart: GHI vs. Tamb with Bubble Size as RH\n",
    "\n",
    "We create a bubble chart to explore how RH or BP modulates the relationship between GHI and ambient temperature.\n"
   ]
  },
  {
   "cell_type": "code",
   "execution_count": null,
   "id": "21",
   "metadata": {},
   "outputs": [],
   "source": [
    "plt.figure(figsize=(10, 6))\n",
    "plt.scatter(df['Tamb'], df['GHI'], s=df['RH']*10, alpha=0.5)\n",
    "plt.title('GHI vs. Tamb (Bubble Size = RH)')\n",
    "plt.xlabel('Tamb (°C)')\n",
    "plt.ylabel('GHI (W/m²)')\n",
    "plt.show()\n"
   ]
  },
  {
   "cell_type": "code",
   "execution_count": null,
   "id": "22",
   "metadata": {},
   "outputs": [],
   "source": []
  }
 ],
 "metadata": {
  "kernelspec": {
   "display_name": "Python 3 (ipykernel)",
   "language": "python",
   "name": "python3"
  },
  "language_info": {
   "codemirror_mode": {
    "name": "ipython",
    "version": 3
   },
   "file_extension": ".py",
   "mimetype": "text/x-python",
   "name": "python",
   "nbconvert_exporter": "python",
   "pygments_lexer": "ipython3",
   "version": "3.13.3"
  }
 },
 "nbformat": 4,
 "nbformat_minor": 5
}
